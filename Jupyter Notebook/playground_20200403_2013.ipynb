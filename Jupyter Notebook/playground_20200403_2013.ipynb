{
 "cells": [
  {
   "cell_type": "code",
   "execution_count": null,
   "metadata": {},
   "outputs": [
    {
     "name": "stdout",
     "output_type": "stream",
     "text": [
      "4\n",
      "98123\n",
      "Case #1: (((((((((9)8)))))))1(2(3)))\n",
      "132\n",
      "Case #2: (1((3)2))\n"
     ]
    }
   ],
   "source": [
    "def f(s):\n",
    "    output = \"\"\n",
    "    stk = []\n",
    "    for i in s:\n",
    "        c = int(i)\n",
    "        if c == 0:\n",
    "            while stk:\n",
    "                output+=\")\"\n",
    "                stk.pop()\n",
    "            output+= i\n",
    "        else:\n",
    "            if len(stk) == c:\n",
    "                output+= i \n",
    "            elif len(stk) > c:\n",
    "                while len(stk)>c:\n",
    "                    output+=\")\"\n",
    "                    stk.pop()\n",
    "                output+=i\n",
    "            else:\n",
    "                while len(stk) < c:\n",
    "                    output+=\"(\"\n",
    "                    stk.append(\"(\")\n",
    "                output+=i\n",
    "    while stk:\n",
    "        output+=\")\"\n",
    "        stk.pop()\n",
    "    return output         \n",
    "    \n",
    "cnt = int(input())\n",
    "for i in range(1, cnt + 1): # go through all the cases\n",
    "    s = input() \n",
    "    res = f(s)\n",
    "    print(\"Case #{}: {}\".format(i, res))  #format and output\n",
    "\n",
    "    "
   ]
  },
  {
   "cell_type": "code",
   "execution_count": 36,
   "metadata": {},
   "outputs": [
    {
     "name": "stdout",
     "output_type": "stream",
     "text": [
      "3\n",
      "4\n",
      "1 2 3 4\n",
      "2 1 4 3\n",
      "3 4 1 2\n",
      "4 3 2 1\n",
      "Case #1: 4 0 0\n",
      "4\n",
      "2 2 2 2\n",
      "2 3 2 3\n",
      "2 2 2 3\n",
      "2 2 2 2\n",
      "Case #2: 9 4 4\n",
      "3\n",
      "2 1 3\n",
      "1 3 2\n",
      "1 2 3\n",
      "Case #3: 8 0 2\n"
     ]
    }
   ],
   "source": [
    "def f(grid):\n",
    "    output = [0,0,0]\n",
    "    trace = 0\n",
    "    for i in range(len(grid)):\n",
    "        trace+=int(grid[i][i])\n",
    "    output[0] = trace   \n",
    "    for r in range(len(grid)):\n",
    "        if len(set(grid[r]))!=len(grid[0]):\n",
    "            output[1] +=1 \n",
    "    \n",
    "    for c in range(len(grid[0])):\n",
    "        curr = []\n",
    "        for r in range(len(grid)):\n",
    "            curr.append(grid[r][c]) \n",
    "            \n",
    "        if len(curr) != len(set(curr)):\n",
    "            output[2]+=1\n",
    "    output[0] = str(output[0])\n",
    "    output[1] = str(output[1])\n",
    "    output[2] = str(output[2])\n",
    "\n",
    "    return ' '.join(output)\n",
    "\n",
    "\n",
    "cnt = int(input())\n",
    "for i in range(1, cnt + 1): # go through all the cases\n",
    "    N = int(input())\n",
    "    grid = []\n",
    "    for j in range(N):\n",
    "        grid.append(str(input()).split(\" \"))\n",
    "    \n",
    "    res = f(grid)\n",
    "    \n",
    "    print(\"Case #{}: {}\".format(i, res))  #format and output\n",
    "\n",
    "            \n",
    "    \n",
    "    \n",
    "    "
   ]
  },
  {
   "cell_type": "code",
   "execution_count": 30,
   "metadata": {},
   "outputs": [
    {
     "name": "stdout",
     "output_type": "stream",
     "text": [
      "[3, 4, 3, 4]\n"
     ]
    }
   ],
   "source": [
    "def flat(rec, stk):\n",
    "    while rec:\n",
    "        if isinstance(rec[0], list):\n",
    "            if len(rec[0]) > 0:\n",
    "                flat(rec[0],stk)\n",
    "            else:\n",
    "                rec.pop(0)\n",
    "        else:\n",
    "            stk.append(rec.pop(0))\n",
    "     \n",
    "v = [[[],[3,[4]]], [[3,[4]]]]\n",
    "stk = []\n",
    "flat(v, stk)\n",
    "while v:\n",
    "    flat(v.pop(0),stk)\n",
    "print(stk)\n",
    "        \n",
    "    "
   ]
  },
  {
   "cell_type": "code",
   "execution_count": 27,
   "metadata": {},
   "outputs": [
    {
     "data": {
      "text/plain": [
       "1"
      ]
     },
     "execution_count": 27,
     "metadata": {},
     "output_type": "execute_result"
    }
   ],
   "source": [
    "fact = lambda x: 1 if x == 1 else x * fact(x-1)\n",
    "fact(1)"
   ]
  },
  {
   "cell_type": "code",
   "execution_count": 22,
   "metadata": {},
   "outputs": [
    {
     "ename": "AttributeError",
     "evalue": "'str' object has no attribute 'pop'",
     "output_type": "error",
     "traceback": [
      "\u001b[0;31m---------------------------------------------------------------------------\u001b[0m",
      "\u001b[0;31mAttributeError\u001b[0m                            Traceback (most recent call last)",
      "\u001b[0;32m<ipython-input-22-9c3f70d5053c>\u001b[0m in \u001b[0;36m<module>\u001b[0;34m\u001b[0m\n\u001b[0;32m----> 1\u001b[0;31m \u001b[0mprint\u001b[0m\u001b[0;34m(\u001b[0m\u001b[0;34m\"hello\"\u001b[0m\u001b[0;34m.\u001b[0m\u001b[0mpop\u001b[0m\u001b[0;34m(\u001b[0m\u001b[0;34m)\u001b[0m\u001b[0;34m)\u001b[0m\u001b[0;34m\u001b[0m\u001b[0;34m\u001b[0m\u001b[0m\n\u001b[0m",
      "\u001b[0;31mAttributeError\u001b[0m: 'str' object has no attribute 'pop'"
     ]
    }
   ],
   "source": [
    "print(\"hello\".pop())"
   ]
  },
  {
   "cell_type": "code",
   "execution_count": 21,
   "metadata": {
    "scrolled": true
   },
   "outputs": [
    {
     "name": "stdout",
     "output_type": "stream",
     "text": [
      "1\n",
      "17\n",
      "289\n",
      "4913\n",
      "83521\n"
     ]
    }
   ],
   "source": [
    "n = 83521\n",
    "for i in range(1,n+1):\n",
    "    if n%i == 0:\n",
    "        print(i)"
   ]
  },
  {
   "cell_type": "code",
   "execution_count": 19,
   "metadata": {},
   "outputs": [],
   "source": [
    "def func(v):\n",
    "    return str(int(str(v).replace('4', '3'))) + \" \" + str(v - int(str(v).replace('4', '3')))\n",
    "    \n",
    "\n",
    "# t = int(input())\n",
    "# for i in range(1, t + 1):\n",
    "#     m = int(input())\n",
    "#     print(\"Case #{}: {}\".format(i, func(m)))"
   ]
  },
  {
   "cell_type": "code",
   "execution_count": 15,
   "metadata": {},
   "outputs": [
    {
     "data": {
      "text/plain": [
       "21"
      ]
     },
     "execution_count": 15,
     "metadata": {},
     "output_type": "execute_result"
    }
   ],
   "source": [
    "def numOfMinutes(n: int, headID: int, manager: 'List[int]', informTime: 'List[int]') -> int:\n",
    "    def dfs(output, curr, sub, person):\n",
    "        if person not in sub: #no one is reporting to him\n",
    "            output.append(curr)\n",
    "        else:\n",
    "            for x in sub[person]: #for all the subordinates\n",
    "                dfs(output, curr+informTime[person], sub,x)\n",
    "    sub = {} \n",
    "    i = 0 \n",
    "    while i < len(manager):#[1,0], [2, 0] , time needed to send message to these people\n",
    "        m = manager[i] \n",
    "        if m not in sub: \n",
    "            sub[m] = []\n",
    "        sub[m].append(i) \n",
    "        i+=1\n",
    "    output = [] #add the root to the output.\n",
    "    for m in sub[manager[headID]]: #for all the subordinates\n",
    "        dfs(output, 0, sub, m) #the boss will have himself as the subordinates, so pass in 0 here\n",
    "    return max(output)\n",
    "\n",
    "\n",
    "numOfMinutes(7,\n",
    "6,\n",
    "[1,2,3,4,5,6,-1],\n",
    "[0,6,5,4,3,2,1])   \n",
    "    "
   ]
  },
  {
   "cell_type": "code",
   "execution_count": 3,
   "metadata": {
    "scrolled": true
   },
   "outputs": [
    {
     "name": "stdout",
     "output_type": "stream",
     "text": [
      "-1\n"
     ]
    }
   ],
   "source": [
    "print(\"helloworld\".find('c'))"
   ]
  },
  {
   "cell_type": "code",
   "execution_count": 2,
   "metadata": {
    "scrolled": true
   },
   "outputs": [
    {
     "name": "stdout",
     "output_type": "stream",
     "text": [
      "0 h\n",
      "1 e\n",
      "2 l\n",
      "3 l\n",
      "4 o\n",
      "5 w\n",
      "6 o\n",
      "7 r\n",
      "8 l\n",
      "9 d\n"
     ]
    }
   ],
   "source": [
    "a = 'helloworld'\n",
    "for i,c in enumerate(a):\n",
    "    print(i,c)"
   ]
  },
  {
   "cell_type": "code",
   "execution_count": 2,
   "metadata": {},
   "outputs": [
    {
     "name": "stdout",
     "output_type": "stream",
     "text": [
      "4.761497974395752\n"
     ]
    }
   ],
   "source": [
    "import time\n",
    "output = []\n",
    "t1 = time.time()\n",
    "for i in range(1000000):\n",
    "    output.append(time.time()-t1)\n",
    "print(output[-1])"
   ]
  },
  {
   "cell_type": "code",
   "execution_count": 16,
   "metadata": {},
   "outputs": [
    {
     "name": "stdout",
     "output_type": "stream",
     "text": [
      "1\n"
     ]
    }
   ],
   "source": [
    "print(1&1)"
   ]
  },
  {
   "cell_type": "code",
   "execution_count": 14,
   "metadata": {
    "scrolled": true
   },
   "outputs": [
    {
     "name": "stdout",
     "output_type": "stream",
     "text": [
      "[[3, 4]]\n"
     ]
    }
   ],
   "source": [
    "A = [[1,2], [3,4]]\n",
    "A.remove([1,2])\n",
    "print(A)"
   ]
  },
  {
   "cell_type": "code",
   "execution_count": 12,
   "metadata": {},
   "outputs": [
    {
     "name": "stdout",
     "output_type": "stream",
     "text": [
      "0\n"
     ]
    }
   ],
   "source": [
    "if \"helllo\" in \"he\":\n",
    "    print(1)\n",
    "else:\n",
    "    print(0)\n",
    "    "
   ]
  },
  {
   "cell_type": "code",
   "execution_count": 11,
   "metadata": {},
   "outputs": [
    {
     "name": "stdout",
     "output_type": "stream",
     "text": [
      "[[3, 2, 3, 'C'], [1, 2, 3, 'A'], [1, 2, 3, 'B']]\n"
     ]
    }
   ],
   "source": [
    "A =[[1,2,3,'A'], [1,2,3,'B'],[3,2,3,'C']]\n",
    "A.sort(key = lambda x: x[-1] )\n",
    "A.sort(key = lambda x: x[:-1], reverse  = True)\n",
    "print(A)"
   ]
  },
  {
   "cell_type": "code",
   "execution_count": 3,
   "metadata": {},
   "outputs": [
    {
     "name": "stdout",
     "output_type": "stream",
     "text": [
      "-1\n"
     ]
    }
   ],
   "source": [
    "print(str(-1))"
   ]
  },
  {
   "cell_type": "code",
   "execution_count": 2,
   "metadata": {
    "scrolled": true
   },
   "outputs": [
    {
     "name": "stdout",
     "output_type": "stream",
     "text": [
      "{'l', 'h', 'o', 'e'}\n"
     ]
    }
   ],
   "source": [
    "print(set(list('hello')))"
   ]
  },
  {
   "cell_type": "code",
   "execution_count": 115,
   "metadata": {},
   "outputs": [],
   "source": [
    "%config IPCompleter.greedy=True"
   ]
  },
  {
   "cell_type": "code",
   "execution_count": 112,
   "metadata": {},
   "outputs": [
    {
     "name": "stdout",
     "output_type": "stream",
     "text": [
      "32768\n"
     ]
    }
   ],
   "source": [
    "def generateAbbreviations(word: str) -> 'List[str]':\n",
    "    def combo(output, N, curr, rest_arr):\n",
    "        if len(curr) == N:\n",
    "            output.append(curr)\n",
    "            return 1\n",
    "        else:\n",
    "            i = 0\n",
    "            while i < len(rest_arr):\n",
    "                t = curr + [rest_arr[i]]\n",
    "                combo(output, N, t, rest_arr[i + 1:])\n",
    "                i += 1\n",
    "\n",
    "    if word == \"\": return [\"\"]\n",
    "    arr = [_ for _ in range(len(word))]\n",
    "    pool = []\n",
    "    for N in range(1, len(arr) + 1):  # pick from 1 to N\n",
    "        i = 0\n",
    "        while i < len(arr):\n",
    "            curr = [arr[i]]\n",
    "            combo(pool, N, curr, arr[i + 1:])\n",
    "            i += 1\n",
    "    output = [str(len(word))]\n",
    "    for p in pool:  # to pick the one based on the order\n",
    "        if p[0] != 0:\n",
    "            curr = str(p[0])\n",
    "        elif p[0] == 0:\n",
    "            curr = word[0]\n",
    "        i = 0 if p[0] != 0 else 1\n",
    "        while i < len(p):\n",
    "            c = p[i]\n",
    "            if c - p[i - 1] > 1:\n",
    "                curr += str(c - p[i - 1] - 1)  # how many in between\n",
    "            curr += word[c]\n",
    "            i += 1\n",
    "\n",
    "        if p[-1] != len(word) - 1:\n",
    "            curr += str(len(word) - 1 - p[-1])  # for the number like 02, need to add the last letter back\n",
    "        output.append(curr)\n",
    "\n",
    "    return len(output)\n",
    "\n",
    "\n",
    "print(generateAbbreviations('internalization'))"
   ]
  },
  {
   "cell_type": "code",
   "execution_count": 107,
   "metadata": {},
   "outputs": [
    {
     "name": "stdout",
     "output_type": "stream",
     "text": [
      "[0, 1, 2, 3]\n"
     ]
    }
   ],
   "source": [
    "def pre(s):\n",
    "    output =[] \n",
    "    i = 0 \n",
    "    while i < len(s):\n",
    "        curr = s[:i+1]\n",
    "        j = 0 \n",
    "        m = 0\n",
    "        while j < len(curr):\n",
    "            if curr[j] == curr[-j-1]:\n",
    "                m +=1\n",
    "            else:\n",
    "                break\n",
    "            j+=1\n",
    "        output.append(m)\n",
    "        i+=1\n",
    "    return [0] + output[:-1]\n",
    "\n",
    "def kmp(s, t): # to check if s in t\n",
    "    output = []\n",
    "    lkp = pre(s) \n",
    "    i = j = 0\n",
    "    while j < len(t):\n",
    "        if s[i] == t[j]:\n",
    "            i+=1\n",
    "            j+=1\n",
    "            if i == len(s): # current one is matching, and it's reached the end of the s\n",
    "                output.append(j-i)\n",
    "                i = lkp[-1]  # this is the last element    \n",
    "        else:\n",
    "            i = lkp[i] \n",
    "            j+=1\n",
    "    return output\n",
    "\n",
    "print(kmp('aa', 'aaaaab'))\n",
    "    \n",
    "    "
   ]
  },
  {
   "cell_type": "code",
   "execution_count": 103,
   "metadata": {
    "scrolled": true
   },
   "outputs": [
    {
     "name": "stdout",
     "output_type": "stream",
     "text": [
      "[0, 1]\n",
      "Found pattern at index 0\n",
      "Found pattern at index 1\n",
      "Found pattern at index 2\n",
      "None\n"
     ]
    }
   ],
   "source": [
    "def KMPSearch(pat, txt): \n",
    "    M = len(pat) \n",
    "    N = len(txt) \n",
    "  \n",
    "    # create lps[] that will hold the longest prefix suffix  \n",
    "    # values for pattern \n",
    "    lps = [0]*M \n",
    "    j = 0 # index for pat[] \n",
    "  \n",
    "    # Preprocess the pattern (calculate lps[] array) \n",
    "    computeLPSArray(pat, M, lps) \n",
    "    print(lps)\n",
    "    i = 0 # index for txt[] \n",
    "    while i < N: \n",
    "        if pat[j] == txt[i]: \n",
    "            i += 1\n",
    "            j += 1\n",
    "  \n",
    "        if j == M: \n",
    "            print(\"Found pattern at index \" + str(i-j) )\n",
    "            j = lps[j-1] \n",
    "  \n",
    "        # mismatch after j matches \n",
    "        elif pat[j] != txt[i]: \n",
    "            # Do not match lps[0..lps[j-1]] characters, \n",
    "            # they will match anyway \n",
    "            if j != 0: \n",
    "                j = lps[j-1] \n",
    "            else: \n",
    "                i += 1\n",
    "\n",
    "def computeLPSArray(pat, M, lps): \n",
    "    len = 0 # length of the previous longest prefix suffix \n",
    "  \n",
    "    lps[0] # lps[0] is always 0 \n",
    "    i = 1\n",
    "  \n",
    "    # the loop calculates lps[i] for i = 1 to M-1 \n",
    "    while i < M: \n",
    "        if pat[i]== pat[len]: \n",
    "            len += 1\n",
    "            lps[i] = len\n",
    "            i += 1\n",
    "        else: \n",
    "            # This is tricky. Consider the example. \n",
    "            # AAACAAAA and i = 7. The idea is similar  \n",
    "            # to search step. \n",
    "            if len != 0: \n",
    "                len = lps[len-1] \n",
    "  \n",
    "                # Also, note that we do not increment i here \n",
    "            else: \n",
    "                lps[i] = 0\n",
    "                i += 1\n",
    "                \n",
    "print(KMPSearch('aa', 'aaaab'))"
   ]
  },
  {
   "cell_type": "code",
   "execution_count": 94,
   "metadata": {},
   "outputs": [
    {
     "name": "stdout",
     "output_type": "stream",
     "text": [
      "10\n"
     ]
    }
   ],
   "source": [
    "def distance(a, b):\n",
    "    dp = []\n",
    "    for r in range(len(a)):\n",
    "        dp.append([r])\n",
    "        for c in range(1,len(b)+1):\n",
    "            if r == 0:\n",
    "                dp[-1].append(c)\n",
    "            else:\n",
    "                cost = 0 if a[r] == b[c-1] else 1\n",
    "                dp[-1].append(min(dp[-1][-1] +1, dp[-2][c]+1, dp[-2][c-1]+cost)) \n",
    "            #print(dp)\n",
    "    return dp[-1][-1]\n",
    "print(distance(\"zoologicoarchaeologist\",\"zoopsychologist\"))\n",
    "            \n",
    "            \n",
    "            \n",
    "            \n",
    "            \n",
    "            "
   ]
  },
  {
   "cell_type": "code",
   "execution_count": 35,
   "metadata": {},
   "outputs": [
    {
     "name": "stdout",
     "output_type": "stream",
     "text": [
      "3\n"
     ]
    }
   ],
   "source": [
    "def gcd(a,b):\n",
    "    x = a if a > b else b \n",
    "    y = b if x==a else a\n",
    "    mod =  x%y\n",
    "    while mod !=0:\n",
    "        x = y\n",
    "        y = mod\n",
    "        mod = x%y\n",
    "    return y\n",
    "print(gcd(12321,69))"
   ]
  },
  {
   "cell_type": "code",
   "execution_count": 34,
   "metadata": {},
   "outputs": [
    {
     "name": "stdout",
     "output_type": "stream",
     "text": [
      "['', '11']\n"
     ]
    }
   ],
   "source": [
    "print('-11'.split('-'))"
   ]
  },
  {
   "cell_type": "code",
   "execution_count": 131,
   "metadata": {},
   "outputs": [
    {
     "name": "stdout",
     "output_type": "stream",
     "text": [
      "[0, 0, 0, 2]\n",
      "[6, 8]\n"
     ]
    }
   ],
   "source": [
    "def pre(s):\n",
    "    output = []\n",
    "    i = 0 \n",
    "    while i < len(s):\n",
    "        curr = s[:i+1]\n",
    "        m = 0\n",
    "        j = 0\n",
    "        while j < len(curr)-1:\n",
    "            if curr[j] == curr[-j-1]:\n",
    "                m+=1\n",
    "            else:\n",
    "                break\n",
    "            j+=1\n",
    "        output.append(m)\n",
    "        i+=1\n",
    "    return [0] + output[:-1]   \n",
    "    \n",
    "\n",
    "def kmp(s, t) :\n",
    "    if len(s) > len(t) :\n",
    "        return False\n",
    "    else:\n",
    "        output = []\n",
    "        lkp = pre(s)\n",
    "        print(lkp)\n",
    "        i = 0\n",
    "        j = 0\n",
    "        while j < len(t):\n",
    "            if s[i]==t[j]:\n",
    "                i+=1\n",
    "                j+=1\n",
    "                if i == len(s):\n",
    "                    output.append(j-i)\n",
    "                    i = lkp[-1]+1 #backtrack i and advance it by 1 position.\n",
    "            else:\n",
    "                if i == 0:# not matched at all, move the j to the next one\n",
    "                    j+=1\n",
    "                else:\n",
    "                    i = lkp[i]\n",
    "                    \n",
    "        return output\n",
    "\n",
    "print(kmp('abab', 'aaaabbabababa'))\n",
    "        \n",
    "        \n",
    "\n",
    "\n",
    "\n"
   ]
  },
  {
   "cell_type": "code",
   "execution_count": 148,
   "metadata": {
    "scrolled": true
   },
   "outputs": [
    {
     "name": "stdout",
     "output_type": "stream",
     "text": [
      "0.0020432472229003906\n",
      "0.006273031234741211\n",
      "0.006904125213623047\n",
      "0.00740504264831543\n",
      "0.008030176162719727\n",
      "0.008533954620361328\n",
      "0.00903010368347168\n",
      "0.009546995162963867\n",
      "0.010043144226074219\n",
      "0.017359256744384766\n",
      "0.019262075424194336\n"
     ]
    }
   ],
   "source": [
    "import time\n",
    "output = []\n",
    "t1 = time.time()\n",
    "for i in range(10):\n",
    "    print(time.time()-t1)\n",
    "print(time.time()-t1)\n"
   ]
  },
  {
   "cell_type": "code",
   "execution_count": 142,
   "metadata": {},
   "outputs": [
    {
     "name": "stdout",
     "output_type": "stream",
     "text": [
      "0.0020551681518554688\n",
      "0.00835418701171875\n",
      "0.008971214294433594\n",
      "0.009476184844970703\n",
      "0.010051250457763672\n",
      "0.018429040908813477\n",
      "0.0194089412689209\n",
      "0.01993393898010254\n",
      "0.02043008804321289\n",
      "0.02134990692138672\n",
      "0.024064064025878906\n"
     ]
    }
   ],
   "source": [
    "import time\n",
    "output = []\n",
    "t1 = time.time()\n",
    "for i in range(10):\n",
    "    print(time.time()-t1)\n",
    "print(time.time()-t1)"
   ]
  },
  {
   "cell_type": "code",
   "execution_count": 152,
   "metadata": {
    "scrolled": true
   },
   "outputs": [
    {
     "name": "stdout",
     "output_type": "stream",
     "text": [
      "h\n"
     ]
    }
   ],
   "source": [
    "a =  list('helloworld').pop(0)\n",
    "print(a)"
   ]
  },
  {
   "cell_type": "code",
   "execution_count": 163,
   "metadata": {},
   "outputs": [
    {
     "name": "stdout",
     "output_type": "stream",
     "text": [
      "False\n",
      "12\n"
     ]
    }
   ],
   "source": [
    "def isInterleave(s1: str, s2: str, s3: str) -> bool:\n",
    "    s1, s2, s3 = list(s1), list(s2),list(s3)\n",
    "    def dfs(s1, s2, s3, i, j, check):\n",
    "        # print (\"\".join(s1),\"\".join(s2),\"\".join(s3))\n",
    "        if (i,j) in check:\n",
    "            return check[i,j]\n",
    "        elif len(s1) + len(s2) != len(s3):\n",
    "            check[(i,j)] = 0\n",
    "            return False\n",
    "        else:\n",
    "            while s3: #keep taking out from s3, and check if the remaining first letter is from s1 or s2. if s1[0]==s2[0], check each one\n",
    "                output.append(1)\n",
    "                # print (\"----\",\"\".join(s1),\"\".join(s2),\"\".join(s3))\n",
    "                if s1!= [] and s2!=[] and s1[0]==s2[0]== s3[0]: \n",
    "                    return dfs(s1[i+1:].copy(),s2.copy(), s3[1:].copy(), i+1, j, check) | dfs(s1.copy(),s2[j+1:].copy(), s3[1:].copy(),i, j+1, check) #either take from first one or the second\n",
    "                elif s1 != [] and s1[0] == s3[0]:\n",
    "                    s1.pop(0)\n",
    "                    s3.pop(0)\n",
    "                elif s2 != [] and s2[0] == s3[0]:\n",
    "                    s2.pop(0)\n",
    "                    s3.pop(0)\n",
    "                else: #it's not from s1 nor s2\n",
    "                    check[(i,j)] = False\n",
    "                    return False \n",
    "            check[(i,j)] = True\n",
    "            return True\n",
    "    check = {}\n",
    "    return dfs(s1,s2,s3,0,0,check)\n",
    "output = []\n",
    "# print(isInterleave(\"aabd\",\n",
    "# \"abdc\",\n",
    "# \"aabdabcd\"))\n",
    "print(isInterleave(\"cbcccbabbccbbcccbbbcabbbabcababbbbbbaccaccbabbaacbaabbbc\",\n",
    "\"abcbbcaababccacbaaaccbabaabbaaabcbababbcccbbabbbcbbb\",\n",
    "\"abcbcccbacbbbbccbcbcacacbbbbacabbbabbcacbcaabcbaaacbcbbbabbbaacacbbaaaabccbcbaabbbaaabbcccbcbabababbbcbbbcbb\"))\n",
    "print(len(output))"
   ]
  },
  {
   "cell_type": "code",
   "execution_count": null,
   "metadata": {},
   "outputs": [],
   "source": [
    "print(['a','b','c'])"
   ]
  },
  {
   "cell_type": "code",
   "execution_count": 165,
   "metadata": {},
   "outputs": [
    {
     "name": "stdout",
     "output_type": "stream",
     "text": [
      "1\n"
     ]
    }
   ],
   "source": [
    "print('0001'.lstrip('0'))"
   ]
  },
  {
   "cell_type": "code",
   "execution_count": 172,
   "metadata": {},
   "outputs": [
    {
     "name": "stdout",
     "output_type": "stream",
     "text": [
      "[0, 0]\n",
      "[0, 1]\n"
     ]
    }
   ],
   "source": [
    "def pre(s):\n",
    "    output = []\n",
    "    i = 0 \n",
    "    while i < len(s):\n",
    "        curr = s[:i+1]\n",
    "        m = 0\n",
    "        j = 0\n",
    "        while j < len(curr)-1:\n",
    "            if curr[j] == curr[-j-1]:\n",
    "                m+=1\n",
    "            else:\n",
    "                break\n",
    "            j+=1\n",
    "        output.append(m)      \n",
    "        i+=1\n",
    "    return [0] + output[:-1]\n",
    "        \n",
    "def kmp(s, t):\n",
    "    ref = pre(s)\n",
    "    i = 0\n",
    "    j = 0\n",
    "    output = []\n",
    "    while j < len(t):\n",
    "        if s[i] == t[j]:\n",
    "            i+=1\n",
    "            j+=1\n",
    "            if i == len(s):\n",
    "                output.append(j-i)\n",
    "                i = ref[-1]+1\n",
    "        else:\n",
    "            i = ref[i]\n",
    "            if i == 0:\n",
    "                j+=1\n",
    "    \n",
    "    return output\n",
    "\n",
    "print(kmp('aa','aaab'))\n",
    "        \n",
    "        \n",
    "        \n",
    "        \n",
    "        \n",
    "        \n",
    "        \n",
    "        \n",
    "        \n",
    "        \n",
    "        \n",
    "        \n",
    "        \n",
    "        \n",
    "        \n",
    "    \n",
    "    \n",
    "    "
   ]
  },
  {
   "cell_type": "code",
   "execution_count": 177,
   "metadata": {},
   "outputs": [
    {
     "name": "stdout",
     "output_type": "stream",
     "text": [
      "10\n"
     ]
    }
   ],
   "source": [
    "def distance(s1, s2):\n",
    "    dp = []\n",
    "    for r in range(len(s1)):\n",
    "        dp.append([r])\n",
    "        for c in range(1, len(s2)+1):\n",
    "            if r == 0:\n",
    "                dp[-1].append(c)\n",
    "            else:\n",
    "                cost = 1 if s1[r] != s2[c-1] else 0\n",
    "                dp[-1].append(min(dp[-1][-1]+1, dp[-2][c]+1 , dp[-2][c-1]+cost ))\n",
    "    return dp[-1][-1]\n",
    "    \n",
    "    \n",
    "print(distance(\"zoologicoarchaeologist\",\n",
    "\"zoopsychologist\"))\n",
    "    \n",
    "    \n",
    "    "
   ]
  },
  {
   "cell_type": "code",
   "execution_count": 187,
   "metadata": {},
   "outputs": [
    {
     "name": "stdout",
     "output_type": "stream",
     "text": [
      "[1, 1, 2, 2, 3, 3, 6, 76]\n"
     ]
    }
   ],
   "source": [
    "def quickSort(arr, s, e ):\n",
    "    if s>=e:\n",
    "        return None\n",
    "    v = arr[(s+e)//2]\n",
    "    pivot = findPivot(arr, s, e, v)\n",
    "    quickSort(arr, s, pivot-1)\n",
    "    quickSort(arr,pivot, e)\n",
    "    \n",
    "    \n",
    "def findPivot(arr, s, e, v):\n",
    "    l = s\n",
    "    r = e \n",
    "    while l<=r:\n",
    "        while arr[l] < v:\n",
    "            l+=1\n",
    "        while arr[r] > v:\n",
    "            r-=1\n",
    "        if l<=r:\n",
    "            swap(arr, l, r)\n",
    "            l+=1\n",
    "            r-=1      \n",
    "    return l\n",
    "    \n",
    "def swap(arr, a, b):\n",
    "    t = arr[a]\n",
    "    arr[a] = arr[b]\n",
    "    arr[b]= t\n",
    "    \n",
    "arr = [1,3,1,6,2,76,2,3]\n",
    "quickSort(arr, 0, len(arr)-1)\n",
    "print(arr) \n"
   ]
  },
  {
   "cell_type": "code",
   "execution_count": 191,
   "metadata": {},
   "outputs": [
    {
     "name": "stdout",
     "output_type": "stream",
     "text": [
      "[1, 1, 2, 2, 3, 3, 6, 76]\n"
     ]
    }
   ],
   "source": [
    "def heapify(arr, s, e):\n",
    "    c1 = 2*s +1\n",
    "    c2 = c1+1\n",
    "    maxx = s\n",
    "    if c1 <= e and arr[c1]>arr[maxx]:\n",
    "        maxx = c1\n",
    "    if c2<=e and arr[c2]> arr[maxx]:\n",
    "        maxx = c2\n",
    "    if maxx!=s:\n",
    "        swap(arr, maxx, s)\n",
    "        heapify(arr, maxx, e)\n",
    "        \n",
    "def build_heap(arr):\n",
    "    s = (len(arr)-1)//2\n",
    "    e = len(arr)-1\n",
    "    while s>-1:\n",
    "        heapify(arr, s, e) \n",
    "        s-=1\n",
    "def heapsort(arr):\n",
    "    build_heap(arr)\n",
    "    i = len(arr)-1\n",
    "    while i > 0:\n",
    "        swap(arr, 0, i)\n",
    "        heapify(arr, 0, i-1)\n",
    "        i-=1\n",
    "        \n",
    "arr = [1,3,1,6,2,76,2,3]\n",
    "heapsort(arr)\n",
    "print(arr)     \n",
    "    \n",
    "    \n",
    "    \n",
    "    \n",
    "    \n",
    "    \n",
    "    \n",
    "    \n",
    "    \n",
    "    \n",
    "    \n",
    "    "
   ]
  },
  {
   "cell_type": "code",
   "execution_count": 1,
   "metadata": {},
   "outputs": [
    {
     "name": "stdout",
     "output_type": "stream",
     "text": [
      "1\n"
     ]
    }
   ],
   "source": [
    "a=(1,2) \n",
    "print(a[0])"
   ]
  }
 ],
 "metadata": {
  "kernelspec": {
   "display_name": "Python 3",
   "language": "python",
   "name": "python3"
  },
  "language_info": {
   "codemirror_mode": {
    "name": "ipython",
    "version": 3
   },
   "file_extension": ".py",
   "mimetype": "text/x-python",
   "name": "python",
   "nbconvert_exporter": "python",
   "pygments_lexer": "ipython3",
   "version": "3.7.3"
  }
 },
 "nbformat": 4,
 "nbformat_minor": 4
}
